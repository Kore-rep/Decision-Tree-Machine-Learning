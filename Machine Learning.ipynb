{
 "cells": [
  {
   "cell_type": "code",
   "execution_count": 26,
   "metadata": {},
   "outputs": [
    {
     "data": {
      "text/plain": [
       "0.75"
      ]
     },
     "execution_count": 26,
     "metadata": {},
     "output_type": "execute_result"
    }
   ],
   "source": [
    "import pandas as pd     #Importing data handling library \n",
    "from sklearn.tree import DecisionTreeClassifier # Importing Decision Tree Machine Learning Method\n",
    "from sklearn.model_selection import train_test_split # Importing Functions to split data into training and testing sets\n",
    "from sklearn.metrics import accuracy_score # Importing Function to compare prediction to expected outputs and generate accuracy score\n",
    "\n",
    "music_data = pd.read_csv('music.csv') # Read the data set\n",
    "X = music_data.drop(columns=['genre']) # Create a data set called X, based on music_data, but excluding \"genre\" (This is the input set)\n",
    "y = music_data['genre'] # Create a data set called y based on the genre colum of music_data (this is the output set)\n",
    "X_train, X_test, y_train, y_test = train_test_split(X, y, test_size = 0.2) # Split the data into new input/output sets for training and testing (20% is for testing)\n",
    "\n",
    "model = DecisionTreeClassifier()  # Assign the Machine Learning Algorithm to a model\n",
    "model.fit(X_train, y_train) # Train the model, using the training Sets\n",
    "predictions = model.predict(X_test) #ask for a prediction\n",
    "\n",
    "score = accuracy_score(y_test, predictions) # Compare y_test(expected output) to predictions(generated output) and generate score\n",
    "score"
   ]
  }
 ],
 "metadata": {
  "kernelspec": {
   "display_name": "Python 3",
   "language": "python",
   "name": "python3"
  },
  "language_info": {
   "codemirror_mode": {
    "name": "ipython",
    "version": 3
   },
   "file_extension": ".py",
   "mimetype": "text/x-python",
   "name": "python",
   "nbconvert_exporter": "python",
   "pygments_lexer": "ipython3",
   "version": "3.7.3"
  }
 },
 "nbformat": 4,
 "nbformat_minor": 2
}
